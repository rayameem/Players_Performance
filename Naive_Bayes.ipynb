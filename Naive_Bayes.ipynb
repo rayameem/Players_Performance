{
  "metadata": {
    "kernelspec": {
      "name": "python",
      "display_name": "Python (Pyodide)",
      "language": "python"
    },
    "language_info": {
      "codemirror_mode": {
        "name": "python",
        "version": 3
      },
      "file_extension": ".py",
      "mimetype": "text/x-python",
      "name": "python",
      "nbconvert_exporter": "python",
      "pygments_lexer": "ipython3",
      "version": "3.8"
    }
  },
  "nbformat_minor": 4,
  "nbformat": 4,
  "cells": [
    {
      "cell_type": "markdown",
      "source": "Build a model that predicts whether a player will have an NBA career lasting five years or more",
      "metadata": {}
    },
    {
      "cell_type": "markdown",
      "source": "# Imports",
      "metadata": {}
    },
    {
      "cell_type": "code",
      "source": "import pandas as pd\nfrom sklearn import naive_bayes\nfrom sklearn import model_selection\nfrom sklearn import metrics",
      "metadata": {
        "trusted": true
      },
      "outputs": [
        {
          "name": "stderr",
          "text": "<ipython-input-1-693ade53b3ec>:1: DeprecationWarning: \nPyarrow will become a required dependency of pandas in the next major release of pandas (pandas 3.0),\n(to allow more performant data types, such as the Arrow string type, and better interoperability with other libraries)\nbut was not found to be installed on your system.\nIf this would cause problems for you,\nplease provide us feedback at https://github.com/pandas-dev/pandas/issues/54466\n        \n  import pandas as pd\n",
          "output_type": "stream"
        }
      ],
      "execution_count": 1
    },
    {
      "cell_type": "code",
      "source": "extracted_data = pd.read_csv('extracted_nba_players.csv')",
      "metadata": {
        "trusted": true
      },
      "outputs": [],
      "execution_count": 4
    },
    {
      "cell_type": "code",
      "source": "extracted_data.head(10)",
      "metadata": {
        "trusted": true
      },
      "outputs": [
        {
          "execution_count": 5,
          "output_type": "execute_result",
          "data": {
            "text/plain": "     fg    3p    ft  reb  ast  stl  blk  tov  target_5yrs  total_points  \\\n0  34.7  25.0  69.9  4.1  1.9  0.4  0.4  1.3            0         266.4   \n1  29.6  23.5  76.5  2.4  3.7  1.1  0.5  1.6            0         252.0   \n2  42.2  24.4  67.0  2.2  1.0  0.5  0.3  1.0            0         384.8   \n3  42.6  22.6  68.9  1.9  0.8  0.6  0.1  1.0            1         330.6   \n4  52.4   0.0  67.4  2.5  0.3  0.3  0.4  0.8            1         216.0   \n5  42.3  32.5  73.2  0.8  1.8  0.4  0.0  0.7            0         277.5   \n6  43.5  50.0  81.1  2.0  0.6  0.2  0.1  0.7            1         409.2   \n7  41.5  30.0  87.5  1.7  0.2  0.2  0.1  0.7            1         273.6   \n8  39.2  23.3  71.4  0.8  2.3  0.3  0.0  1.1            0         156.0   \n9  38.3  21.4  67.8  1.1  0.3  0.2  0.0  0.7            0         155.4   \n\n   efficiency  \n0    9.722628  \n1    9.368030  \n2   25.150327  \n3   28.500000  \n4   18.782609  \n5   24.342105  \n6   37.541284  \n7   26.563107  \n8   15.757576  \n9   18.282353  ",
            "text/html": "<div>\n<style scoped>\n    .dataframe tbody tr th:only-of-type {\n        vertical-align: middle;\n    }\n\n    .dataframe tbody tr th {\n        vertical-align: top;\n    }\n\n    .dataframe thead th {\n        text-align: right;\n    }\n</style>\n<table border=\"1\" class=\"dataframe\">\n  <thead>\n    <tr style=\"text-align: right;\">\n      <th></th>\n      <th>fg</th>\n      <th>3p</th>\n      <th>ft</th>\n      <th>reb</th>\n      <th>ast</th>\n      <th>stl</th>\n      <th>blk</th>\n      <th>tov</th>\n      <th>target_5yrs</th>\n      <th>total_points</th>\n      <th>efficiency</th>\n    </tr>\n  </thead>\n  <tbody>\n    <tr>\n      <th>0</th>\n      <td>34.7</td>\n      <td>25.0</td>\n      <td>69.9</td>\n      <td>4.1</td>\n      <td>1.9</td>\n      <td>0.4</td>\n      <td>0.4</td>\n      <td>1.3</td>\n      <td>0</td>\n      <td>266.4</td>\n      <td>9.722628</td>\n    </tr>\n    <tr>\n      <th>1</th>\n      <td>29.6</td>\n      <td>23.5</td>\n      <td>76.5</td>\n      <td>2.4</td>\n      <td>3.7</td>\n      <td>1.1</td>\n      <td>0.5</td>\n      <td>1.6</td>\n      <td>0</td>\n      <td>252.0</td>\n      <td>9.368030</td>\n    </tr>\n    <tr>\n      <th>2</th>\n      <td>42.2</td>\n      <td>24.4</td>\n      <td>67.0</td>\n      <td>2.2</td>\n      <td>1.0</td>\n      <td>0.5</td>\n      <td>0.3</td>\n      <td>1.0</td>\n      <td>0</td>\n      <td>384.8</td>\n      <td>25.150327</td>\n    </tr>\n    <tr>\n      <th>3</th>\n      <td>42.6</td>\n      <td>22.6</td>\n      <td>68.9</td>\n      <td>1.9</td>\n      <td>0.8</td>\n      <td>0.6</td>\n      <td>0.1</td>\n      <td>1.0</td>\n      <td>1</td>\n      <td>330.6</td>\n      <td>28.500000</td>\n    </tr>\n    <tr>\n      <th>4</th>\n      <td>52.4</td>\n      <td>0.0</td>\n      <td>67.4</td>\n      <td>2.5</td>\n      <td>0.3</td>\n      <td>0.3</td>\n      <td>0.4</td>\n      <td>0.8</td>\n      <td>1</td>\n      <td>216.0</td>\n      <td>18.782609</td>\n    </tr>\n    <tr>\n      <th>5</th>\n      <td>42.3</td>\n      <td>32.5</td>\n      <td>73.2</td>\n      <td>0.8</td>\n      <td>1.8</td>\n      <td>0.4</td>\n      <td>0.0</td>\n      <td>0.7</td>\n      <td>0</td>\n      <td>277.5</td>\n      <td>24.342105</td>\n    </tr>\n    <tr>\n      <th>6</th>\n      <td>43.5</td>\n      <td>50.0</td>\n      <td>81.1</td>\n      <td>2.0</td>\n      <td>0.6</td>\n      <td>0.2</td>\n      <td>0.1</td>\n      <td>0.7</td>\n      <td>1</td>\n      <td>409.2</td>\n      <td>37.541284</td>\n    </tr>\n    <tr>\n      <th>7</th>\n      <td>41.5</td>\n      <td>30.0</td>\n      <td>87.5</td>\n      <td>1.7</td>\n      <td>0.2</td>\n      <td>0.2</td>\n      <td>0.1</td>\n      <td>0.7</td>\n      <td>1</td>\n      <td>273.6</td>\n      <td>26.563107</td>\n    </tr>\n    <tr>\n      <th>8</th>\n      <td>39.2</td>\n      <td>23.3</td>\n      <td>71.4</td>\n      <td>0.8</td>\n      <td>2.3</td>\n      <td>0.3</td>\n      <td>0.0</td>\n      <td>1.1</td>\n      <td>0</td>\n      <td>156.0</td>\n      <td>15.757576</td>\n    </tr>\n    <tr>\n      <th>9</th>\n      <td>38.3</td>\n      <td>21.4</td>\n      <td>67.8</td>\n      <td>1.1</td>\n      <td>0.3</td>\n      <td>0.2</td>\n      <td>0.0</td>\n      <td>0.7</td>\n      <td>0</td>\n      <td>155.4</td>\n      <td>18.282353</td>\n    </tr>\n  </tbody>\n</table>\n</div>"
          },
          "metadata": {}
        }
      ],
      "execution_count": 5
    },
    {
      "cell_type": "markdown",
      "source": "# Model Prep",
      "metadata": {}
    },
    {
      "cell_type": "code",
      "source": "y = extracted_data[\"target_5yrs\"]\nx = extracted_data.drop(\"target_5yrs\",axis=1)",
      "metadata": {
        "trusted": true
      },
      "outputs": [],
      "execution_count": 6
    },
    {
      "cell_type": "code",
      "source": "y.head(10)",
      "metadata": {
        "trusted": true
      },
      "outputs": [
        {
          "execution_count": 7,
          "output_type": "execute_result",
          "data": {
            "text/plain": "0    0\n1    0\n2    0\n3    1\n4    1\n5    0\n6    1\n7    1\n8    0\n9    0\nName: target_5yrs, dtype: int64"
          },
          "metadata": {}
        }
      ],
      "execution_count": 7
    },
    {
      "cell_type": "code",
      "source": "x.head(10)",
      "metadata": {
        "trusted": true
      },
      "outputs": [
        {
          "execution_count": 8,
          "output_type": "execute_result",
          "data": {
            "text/plain": "     fg    3p    ft  reb  ast  stl  blk  tov  total_points  efficiency\n0  34.7  25.0  69.9  4.1  1.9  0.4  0.4  1.3         266.4    9.722628\n1  29.6  23.5  76.5  2.4  3.7  1.1  0.5  1.6         252.0    9.368030\n2  42.2  24.4  67.0  2.2  1.0  0.5  0.3  1.0         384.8   25.150327\n3  42.6  22.6  68.9  1.9  0.8  0.6  0.1  1.0         330.6   28.500000\n4  52.4   0.0  67.4  2.5  0.3  0.3  0.4  0.8         216.0   18.782609\n5  42.3  32.5  73.2  0.8  1.8  0.4  0.0  0.7         277.5   24.342105\n6  43.5  50.0  81.1  2.0  0.6  0.2  0.1  0.7         409.2   37.541284\n7  41.5  30.0  87.5  1.7  0.2  0.2  0.1  0.7         273.6   26.563107\n8  39.2  23.3  71.4  0.8  2.3  0.3  0.0  1.1         156.0   15.757576\n9  38.3  21.4  67.8  1.1  0.3  0.2  0.0  0.7         155.4   18.282353",
            "text/html": "<div>\n<style scoped>\n    .dataframe tbody tr th:only-of-type {\n        vertical-align: middle;\n    }\n\n    .dataframe tbody tr th {\n        vertical-align: top;\n    }\n\n    .dataframe thead th {\n        text-align: right;\n    }\n</style>\n<table border=\"1\" class=\"dataframe\">\n  <thead>\n    <tr style=\"text-align: right;\">\n      <th></th>\n      <th>fg</th>\n      <th>3p</th>\n      <th>ft</th>\n      <th>reb</th>\n      <th>ast</th>\n      <th>stl</th>\n      <th>blk</th>\n      <th>tov</th>\n      <th>total_points</th>\n      <th>efficiency</th>\n    </tr>\n  </thead>\n  <tbody>\n    <tr>\n      <th>0</th>\n      <td>34.7</td>\n      <td>25.0</td>\n      <td>69.9</td>\n      <td>4.1</td>\n      <td>1.9</td>\n      <td>0.4</td>\n      <td>0.4</td>\n      <td>1.3</td>\n      <td>266.4</td>\n      <td>9.722628</td>\n    </tr>\n    <tr>\n      <th>1</th>\n      <td>29.6</td>\n      <td>23.5</td>\n      <td>76.5</td>\n      <td>2.4</td>\n      <td>3.7</td>\n      <td>1.1</td>\n      <td>0.5</td>\n      <td>1.6</td>\n      <td>252.0</td>\n      <td>9.368030</td>\n    </tr>\n    <tr>\n      <th>2</th>\n      <td>42.2</td>\n      <td>24.4</td>\n      <td>67.0</td>\n      <td>2.2</td>\n      <td>1.0</td>\n      <td>0.5</td>\n      <td>0.3</td>\n      <td>1.0</td>\n      <td>384.8</td>\n      <td>25.150327</td>\n    </tr>\n    <tr>\n      <th>3</th>\n      <td>42.6</td>\n      <td>22.6</td>\n      <td>68.9</td>\n      <td>1.9</td>\n      <td>0.8</td>\n      <td>0.6</td>\n      <td>0.1</td>\n      <td>1.0</td>\n      <td>330.6</td>\n      <td>28.500000</td>\n    </tr>\n    <tr>\n      <th>4</th>\n      <td>52.4</td>\n      <td>0.0</td>\n      <td>67.4</td>\n      <td>2.5</td>\n      <td>0.3</td>\n      <td>0.3</td>\n      <td>0.4</td>\n      <td>0.8</td>\n      <td>216.0</td>\n      <td>18.782609</td>\n    </tr>\n    <tr>\n      <th>5</th>\n      <td>42.3</td>\n      <td>32.5</td>\n      <td>73.2</td>\n      <td>0.8</td>\n      <td>1.8</td>\n      <td>0.4</td>\n      <td>0.0</td>\n      <td>0.7</td>\n      <td>277.5</td>\n      <td>24.342105</td>\n    </tr>\n    <tr>\n      <th>6</th>\n      <td>43.5</td>\n      <td>50.0</td>\n      <td>81.1</td>\n      <td>2.0</td>\n      <td>0.6</td>\n      <td>0.2</td>\n      <td>0.1</td>\n      <td>0.7</td>\n      <td>409.2</td>\n      <td>37.541284</td>\n    </tr>\n    <tr>\n      <th>7</th>\n      <td>41.5</td>\n      <td>30.0</td>\n      <td>87.5</td>\n      <td>1.7</td>\n      <td>0.2</td>\n      <td>0.2</td>\n      <td>0.1</td>\n      <td>0.7</td>\n      <td>273.6</td>\n      <td>26.563107</td>\n    </tr>\n    <tr>\n      <th>8</th>\n      <td>39.2</td>\n      <td>23.3</td>\n      <td>71.4</td>\n      <td>0.8</td>\n      <td>2.3</td>\n      <td>0.3</td>\n      <td>0.0</td>\n      <td>1.1</td>\n      <td>156.0</td>\n      <td>15.757576</td>\n    </tr>\n    <tr>\n      <th>9</th>\n      <td>38.3</td>\n      <td>21.4</td>\n      <td>67.8</td>\n      <td>1.1</td>\n      <td>0.3</td>\n      <td>0.2</td>\n      <td>0.0</td>\n      <td>0.7</td>\n      <td>155.4</td>\n      <td>18.282353</td>\n    </tr>\n  </tbody>\n</table>\n</div>"
          },
          "metadata": {}
        }
      ],
      "execution_count": 8
    },
    {
      "cell_type": "code",
      "source": "x_train,x_test,y_train,y_test=model_selection.train_test_split(x,y, test_size=0.25, random_state=0)",
      "metadata": {
        "trusted": true
      },
      "outputs": [],
      "execution_count": 9
    },
    {
      "cell_type": "code",
      "source": "\nprint(x_train.shape)\n\nprint(x_test.shape)\n\nprint(y_train.shape)\n\nprint(y_test.shape)",
      "metadata": {
        "trusted": true
      },
      "outputs": [
        {
          "name": "stdout",
          "text": "(1005, 10)\n(335, 10)\n(1005,)\n(335,)\n",
          "output_type": "stream"
        }
      ],
      "execution_count": 10
    },
    {
      "cell_type": "markdown",
      "source": "# Model Building",
      "metadata": {}
    },
    {
      "cell_type": "code",
      "source": "nb = naive_bayes.GaussianNB()\n\nnb.fit(x_train,y_train)\n\ny_pred = nb.predict(x_test)",
      "metadata": {
        "trusted": true
      },
      "outputs": [],
      "execution_count": 11
    },
    {
      "cell_type": "markdown",
      "source": "# Results and Evaluation",
      "metadata": {}
    },
    {
      "cell_type": "code",
      "source": "print(\"accuracy score:\"), print(metrics.accuracy_score(y_test,y_pred))\n\nprint(\"precision score:\"), print(metrics.precision_score(y_test,y_pred))\n\nprint(\"recall score:\"), print(metrics.recall_score(y_test,y_pred))\n\nprint(\"F1 score:\"), print(metrics.f1_score(y_test,y_pred))",
      "metadata": {
        "trusted": true
      },
      "outputs": [
        {
          "name": "stdout",
          "text": "accuracy score:\n0.6985074626865672\nprecision score:\n0.8211920529801324\nrecall score:\n0.6262626262626263\nF1 score:\n0.7106017191977078\n",
          "output_type": "stream"
        },
        {
          "execution_count": 12,
          "output_type": "execute_result",
          "data": {
            "text/plain": "(None, None)"
          },
          "metadata": {}
        }
      ],
      "execution_count": 12
    },
    {
      "cell_type": "code",
      "source": "import matplotlib.pyplot as plt\n%pip install seaborn\nimport seaborn as sns",
      "metadata": {
        "trusted": true
      },
      "outputs": [],
      "execution_count": 14
    },
    {
      "cell_type": "code",
      "source": "\ncm = metrics.confusion_matrix(y_test,y_pred)\n\ndisp = metrics.ConfusionMatrixDisplay(confusion_matrix=cm, display_labels=nb.classes_)\n\ndisp.plot()",
      "metadata": {
        "trusted": true
      },
      "outputs": [
        {
          "execution_count": 16,
          "output_type": "execute_result",
          "data": {
            "text/plain": "<sklearn.metrics._plot.confusion_matrix.ConfusionMatrixDisplay at 0xaafcac0>"
          },
          "metadata": {}
        },
        {
          "output_type": "display_data",
          "data": {
            "text/plain": "<Figure size 640x480 with 2 Axes>",
            "image/png": "[encoded data removed]"
          },
          "metadata": {}
        }
      ],
      "execution_count": 16
    },
    {
      "cell_type": "code",
      "source": "",
      "metadata": {
        "trusted": true
      },
      "outputs": [],
      "execution_count": null
    }
  ]
}