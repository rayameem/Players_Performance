{
  "metadata": {
    "kernelspec": {
      "name": "python",
      "display_name": "Python (Pyodide)",
      "language": "python"
    },
    "language_info": {
      "codemirror_mode": {
        "name": "python",
        "version": 3
      },
      "file_extension": ".py",
      "mimetype": "text/x-python",
      "name": "python",
      "nbconvert_exporter": "python",
      "pygments_lexer": "ipython3",
      "version": "3.8"
    }
  },
  "nbformat_minor": 4,
  "nbformat": 4,
  "cells": [
    {
      "cell_type": "markdown",
      "source": "Feature engineering to help  determine which attributes in the data can best predict certain measures",
      "metadata": {}
    },
    {
      "cell_type": "markdown",
      "source": "# Imports",
      "metadata": {}
    },
    {
      "cell_type": "code",
      "source": "import pandas as pd",
      "metadata": {
        "trusted": true
      },
      "outputs": [
        {
          "name": "stderr",
          "text": "<ipython-input-1-7dd3504c366f>:1: DeprecationWarning: \nPyarrow will become a required dependency of pandas in the next major release of pandas (pandas 3.0),\n(to allow more performant data types, such as the Arrow string type, and better interoperability with other libraries)\nbut was not found to be installed on your system.\nIf this would cause problems for you,\nplease provide us feedback at https://github.com/pandas-dev/pandas/issues/54466\n        \n  import pandas as pd\n",
          "output_type": "stream"
        }
      ],
      "execution_count": 1
    },
    {
      "cell_type": "code",
      "source": "data = pd.read_csv(\"nba-players.csv\", index_col=0)",
      "metadata": {
        "trusted": true
      },
      "outputs": [],
      "execution_count": 2
    },
    {
      "cell_type": "markdown",
      "source": "# EDA",
      "metadata": {}
    },
    {
      "cell_type": "code",
      "source": "data.head(10)",
      "metadata": {
        "trusted": true
      },
      "outputs": [
        {
          "execution_count": 3,
          "output_type": "execute_result",
          "data": {
            "text/plain": "              name  gp   min  pts  fgm  fga    fg  3p_made  3pa    3p  ...  \\\n0   Brandon Ingram  36  27.4  7.4  2.6  7.6  34.7      0.5  2.1  25.0  ...   \n1  Andrew Harrison  35  26.9  7.2  2.0  6.7  29.6      0.7  2.8  23.5  ...   \n2   JaKarr Sampson  74  15.3  5.2  2.0  4.7  42.2      0.4  1.7  24.4  ...   \n3      Malik Sealy  58  11.6  5.7  2.3  5.5  42.6      0.1  0.5  22.6  ...   \n4      Matt Geiger  48  11.5  4.5  1.6  3.0  52.4      0.0  0.1   0.0  ...   \n5     Tony Bennett  75  11.4  3.7  1.5  3.5  42.3      0.3  1.1  32.5  ...   \n6      Don MacLean  62  10.9  6.6  2.5  5.8  43.5      0.0  0.1  50.0  ...   \n7     Tracy Murray  48  10.3  5.7  2.3  5.4  41.5      0.4  1.5  30.0  ...   \n8     Duane Cooper  65   9.9  2.4  1.0  2.4  39.2      0.1  0.5  23.3  ...   \n9     Dave Johnson  42   8.5  3.7  1.4  3.5  38.3      0.1  0.3  21.4  ...   \n\n   fta    ft  oreb  dreb  reb  ast  stl  blk  tov  target_5yrs  \n0  2.3  69.9   0.7   3.4  4.1  1.9  0.4  0.4  1.3            0  \n1  3.4  76.5   0.5   2.0  2.4  3.7  1.1  0.5  1.6            0  \n2  1.3  67.0   0.5   1.7  2.2  1.0  0.5  0.3  1.0            0  \n3  1.3  68.9   1.0   0.9  1.9  0.8  0.6  0.1  1.0            1  \n4  1.9  67.4   1.0   1.5  2.5  0.3  0.3  0.4  0.8            1  \n5  0.5  73.2   0.2   0.7  0.8  1.8  0.4  0.0  0.7            0  \n6  1.8  81.1   0.5   1.4  2.0  0.6  0.2  0.1  0.7            1  \n7  0.8  87.5   0.8   0.9  1.7  0.2  0.2  0.1  0.7            1  \n8  0.5  71.4   0.2   0.6  0.8  2.3  0.3  0.0  1.1            0  \n9  1.4  67.8   0.4   0.7  1.1  0.3  0.2  0.0  0.7            0  \n\n[10 rows x 21 columns]",
            "text/html": "<div>\n<style scoped>\n    .dataframe tbody tr th:only-of-type {\n        vertical-align: middle;\n    }\n\n    .dataframe tbody tr th {\n        vertical-align: top;\n    }\n\n    .dataframe thead th {\n        text-align: right;\n    }\n</style>\n<table border=\"1\" class=\"dataframe\">\n  <thead>\n    <tr style=\"text-align: right;\">\n      <th></th>\n      <th>name</th>\n      <th>gp</th>\n      <th>min</th>\n      <th>pts</th>\n      <th>fgm</th>\n      <th>fga</th>\n      <th>fg</th>\n      <th>3p_made</th>\n      <th>3pa</th>\n      <th>3p</th>\n      <th>...</th>\n      <th>fta</th>\n      <th>ft</th>\n      <th>oreb</th>\n      <th>dreb</th>\n      <th>reb</th>\n      <th>ast</th>\n      <th>stl</th>\n      <th>blk</th>\n      <th>tov</th>\n      <th>target_5yrs</th>\n    </tr>\n  </thead>\n  <tbody>\n    <tr>\n      <th>0</th>\n      <td>Brandon Ingram</td>\n      <td>36</td>\n      <td>27.4</td>\n      <td>7.4</td>\n      <td>2.6</td>\n      <td>7.6</td>\n      <td>34.7</td>\n      <td>0.5</td>\n      <td>2.1</td>\n      <td>25.0</td>\n      <td>...</td>\n      <td>2.3</td>\n      <td>69.9</td>\n      <td>0.7</td>\n      <td>3.4</td>\n      <td>4.1</td>\n      <td>1.9</td>\n      <td>0.4</td>\n      <td>0.4</td>\n      <td>1.3</td>\n      <td>0</td>\n    </tr>\n    <tr>\n      <th>1</th>\n      <td>Andrew Harrison</td>\n      <td>35</td>\n      <td>26.9</td>\n      <td>7.2</td>\n      <td>2.0</td>\n      <td>6.7</td>\n      <td>29.6</td>\n      <td>0.7</td>\n      <td>2.8</td>\n      <td>23.5</td>\n      <td>...</td>\n      <td>3.4</td>\n      <td>76.5</td>\n      <td>0.5</td>\n      <td>2.0</td>\n      <td>2.4</td>\n      <td>3.7</td>\n      <td>1.1</td>\n      <td>0.5</td>\n      <td>1.6</td>\n      <td>0</td>\n    </tr>\n    <tr>\n      <th>2</th>\n      <td>JaKarr Sampson</td>\n      <td>74</td>\n      <td>15.3</td>\n      <td>5.2</td>\n      <td>2.0</td>\n      <td>4.7</td>\n      <td>42.2</td>\n      <td>0.4</td>\n      <td>1.7</td>\n      <td>24.4</td>\n      <td>...</td>\n      <td>1.3</td>\n      <td>67.0</td>\n      <td>0.5</td>\n      <td>1.7</td>\n      <td>2.2</td>\n      <td>1.0</td>\n      <td>0.5</td>\n      <td>0.3</td>\n      <td>1.0</td>\n      <td>0</td>\n    </tr>\n    <tr>\n      <th>3</th>\n      <td>Malik Sealy</td>\n      <td>58</td>\n      <td>11.6</td>\n      <td>5.7</td>\n      <td>2.3</td>\n      <td>5.5</td>\n      <td>42.6</td>\n      <td>0.1</td>\n      <td>0.5</td>\n      <td>22.6</td>\n      <td>...</td>\n      <td>1.3</td>\n      <td>68.9</td>\n      <td>1.0</td>\n      <td>0.9</td>\n      <td>1.9</td>\n      <td>0.8</td>\n      <td>0.6</td>\n      <td>0.1</td>\n      <td>1.0</td>\n      <td>1</td>\n    </tr>\n    <tr>\n      <th>4</th>\n      <td>Matt Geiger</td>\n      <td>48</td>\n      <td>11.5</td>\n      <td>4.5</td>\n      <td>1.6</td>\n      <td>3.0</td>\n      <td>52.4</td>\n      <td>0.0</td>\n      <td>0.1</td>\n      <td>0.0</td>\n      <td>...</td>\n      <td>1.9</td>\n      <td>67.4</td>\n      <td>1.0</td>\n      <td>1.5</td>\n      <td>2.5</td>\n      <td>0.3</td>\n      <td>0.3</td>\n      <td>0.4</td>\n      <td>0.8</td>\n      <td>1</td>\n    </tr>\n    <tr>\n      <th>5</th>\n      <td>Tony Bennett</td>\n      <td>75</td>\n      <td>11.4</td>\n      <td>3.7</td>\n      <td>1.5</td>\n      <td>3.5</td>\n      <td>42.3</td>\n      <td>0.3</td>\n      <td>1.1</td>\n      <td>32.5</td>\n      <td>...</td>\n      <td>0.5</td>\n      <td>73.2</td>\n      <td>0.2</td>\n      <td>0.7</td>\n      <td>0.8</td>\n      <td>1.8</td>\n      <td>0.4</td>\n      <td>0.0</td>\n      <td>0.7</td>\n      <td>0</td>\n    </tr>\n    <tr>\n      <th>6</th>\n      <td>Don MacLean</td>\n      <td>62</td>\n      <td>10.9</td>\n      <td>6.6</td>\n      <td>2.5</td>\n      <td>5.8</td>\n      <td>43.5</td>\n      <td>0.0</td>\n      <td>0.1</td>\n      <td>50.0</td>\n      <td>...</td>\n      <td>1.8</td>\n      <td>81.1</td>\n      <td>0.5</td>\n      <td>1.4</td>\n      <td>2.0</td>\n      <td>0.6</td>\n      <td>0.2</td>\n      <td>0.1</td>\n      <td>0.7</td>\n      <td>1</td>\n    </tr>\n    <tr>\n      <th>7</th>\n      <td>Tracy Murray</td>\n      <td>48</td>\n      <td>10.3</td>\n      <td>5.7</td>\n      <td>2.3</td>\n      <td>5.4</td>\n      <td>41.5</td>\n      <td>0.4</td>\n      <td>1.5</td>\n      <td>30.0</td>\n      <td>...</td>\n      <td>0.8</td>\n      <td>87.5</td>\n      <td>0.8</td>\n      <td>0.9</td>\n      <td>1.7</td>\n      <td>0.2</td>\n      <td>0.2</td>\n      <td>0.1</td>\n      <td>0.7</td>\n      <td>1</td>\n    </tr>\n    <tr>\n      <th>8</th>\n      <td>Duane Cooper</td>\n      <td>65</td>\n      <td>9.9</td>\n      <td>2.4</td>\n      <td>1.0</td>\n      <td>2.4</td>\n      <td>39.2</td>\n      <td>0.1</td>\n      <td>0.5</td>\n      <td>23.3</td>\n      <td>...</td>\n      <td>0.5</td>\n      <td>71.4</td>\n      <td>0.2</td>\n      <td>0.6</td>\n      <td>0.8</td>\n      <td>2.3</td>\n      <td>0.3</td>\n      <td>0.0</td>\n      <td>1.1</td>\n      <td>0</td>\n    </tr>\n    <tr>\n      <th>9</th>\n      <td>Dave Johnson</td>\n      <td>42</td>\n      <td>8.5</td>\n      <td>3.7</td>\n      <td>1.4</td>\n      <td>3.5</td>\n      <td>38.3</td>\n      <td>0.1</td>\n      <td>0.3</td>\n      <td>21.4</td>\n      <td>...</td>\n      <td>1.4</td>\n      <td>67.8</td>\n      <td>0.4</td>\n      <td>0.7</td>\n      <td>1.1</td>\n      <td>0.3</td>\n      <td>0.2</td>\n      <td>0.0</td>\n      <td>0.7</td>\n      <td>0</td>\n    </tr>\n  </tbody>\n</table>\n<p>10 rows × 21 columns</p>\n</div>"
          },
          "metadata": {}
        }
      ],
      "execution_count": 3
    },
    {
      "cell_type": "code",
      "source": "data.shape",
      "metadata": {
        "trusted": true
      },
      "outputs": [
        {
          "execution_count": 4,
          "output_type": "execute_result",
          "data": {
            "text/plain": "(1340, 21)"
          },
          "metadata": {}
        }
      ],
      "execution_count": 4
    },
    {
      "cell_type": "code",
      "source": "data.columns",
      "metadata": {
        "trusted": true
      },
      "outputs": [
        {
          "execution_count": 5,
          "output_type": "execute_result",
          "data": {
            "text/plain": "Index(['name', 'gp', 'min', 'pts', 'fgm', 'fga', 'fg', '3p_made', '3pa', '3p',\n       'ftm', 'fta', 'ft', 'oreb', 'dreb', 'reb', 'ast', 'stl', 'blk', 'tov',\n       'target_5yrs'],\n      dtype='object')"
          },
          "metadata": {}
        }
      ],
      "execution_count": 5
    },
    {
      "cell_type": "code",
      "source": "data.info()",
      "metadata": {
        "trusted": true
      },
      "outputs": [
        {
          "name": "stdout",
          "text": "<class 'pandas.core.frame.DataFrame'>\nIndex: 1340 entries, 0 to 1339\nData columns (total 21 columns):\n #   Column       Non-Null Count  Dtype  \n---  ------       --------------  -----  \n 0   name         1340 non-null   object \n 1   gp           1340 non-null   int64  \n 2   min          1340 non-null   float64\n 3   pts          1340 non-null   float64\n 4   fgm          1340 non-null   float64\n 5   fga          1340 non-null   float64\n 6   fg           1340 non-null   float64\n 7   3p_made      1340 non-null   float64\n 8   3pa          1340 non-null   float64\n 9   3p           1340 non-null   float64\n 10  ftm          1340 non-null   float64\n 11  fta          1340 non-null   float64\n 12  ft           1340 non-null   float64\n 13  oreb         1340 non-null   float64\n 14  dreb         1340 non-null   float64\n 15  reb          1340 non-null   float64\n 16  ast          1340 non-null   float64\n 17  stl          1340 non-null   float64\n 18  blk          1340 non-null   float64\n 19  tov          1340 non-null   float64\n 20  target_5yrs  1340 non-null   int64  \ndtypes: float64(18), int64(2), object(1)\nmemory usage: 225.1+ KB\n",
          "output_type": "stream"
        }
      ],
      "execution_count": 7
    },
    {
      "cell_type": "code",
      "source": "data.isna().sum()",
      "metadata": {
        "trusted": true
      },
      "outputs": [
        {
          "execution_count": 8,
          "output_type": "execute_result",
          "data": {
            "text/plain": "name           0\ngp             0\nmin            0\npts            0\nfgm            0\nfga            0\nfg             0\n3p_made        0\n3pa            0\n3p             0\nftm            0\nfta            0\nft             0\noreb           0\ndreb           0\nreb            0\nast            0\nstl            0\nblk            0\ntov            0\ntarget_5yrs    0\ndtype: int64"
          },
          "metadata": {}
        }
      ],
      "execution_count": 8
    },
    {
      "cell_type": "markdown",
      "source": "# Statistical test",
      "metadata": {}
    },
    {
      "cell_type": "code",
      "source": "data[\"target_5yrs\"].value_counts(normalize=True)*100",
      "metadata": {
        "trusted": true
      },
      "outputs": [
        {
          "execution_count": 9,
          "output_type": "execute_result",
          "data": {
            "text/plain": "target_5yrs\n1    62.014925\n0    37.985075\nName: proportion, dtype: float64"
          },
          "metadata": {}
        }
      ],
      "execution_count": 9
    },
    {
      "cell_type": "markdown",
      "source": "# Result & Evaluation",
      "metadata": {}
    },
    {
      "cell_type": "markdown",
      "source": "## Feature Selection",
      "metadata": {}
    },
    {
      "cell_type": "code",
      "source": "selected_data = data[[\"gp\",\"min\",\"pts\",\"fg\",\"3p\",\"ft\",\"reb\",\"ast\",\"stl\",\"blk\",\"tov\",\"target_5yrs\"]]\nselected_data.head()",
      "metadata": {
        "trusted": true
      },
      "outputs": [
        {
          "execution_count": 10,
          "output_type": "execute_result",
          "data": {
            "text/plain": "   gp   min  pts    fg    3p    ft  reb  ast  stl  blk  tov  target_5yrs\n0  36  27.4  7.4  34.7  25.0  69.9  4.1  1.9  0.4  0.4  1.3            0\n1  35  26.9  7.2  29.6  23.5  76.5  2.4  3.7  1.1  0.5  1.6            0\n2  74  15.3  5.2  42.2  24.4  67.0  2.2  1.0  0.5  0.3  1.0            0\n3  58  11.6  5.7  42.6  22.6  68.9  1.9  0.8  0.6  0.1  1.0            1\n4  48  11.5  4.5  52.4   0.0  67.4  2.5  0.3  0.3  0.4  0.8            1",
            "text/html": "<div>\n<style scoped>\n    .dataframe tbody tr th:only-of-type {\n        vertical-align: middle;\n    }\n\n    .dataframe tbody tr th {\n        vertical-align: top;\n    }\n\n    .dataframe thead th {\n        text-align: right;\n    }\n</style>\n<table border=\"1\" class=\"dataframe\">\n  <thead>\n    <tr style=\"text-align: right;\">\n      <th></th>\n      <th>gp</th>\n      <th>min</th>\n      <th>pts</th>\n      <th>fg</th>\n      <th>3p</th>\n      <th>ft</th>\n      <th>reb</th>\n      <th>ast</th>\n      <th>stl</th>\n      <th>blk</th>\n      <th>tov</th>\n      <th>target_5yrs</th>\n    </tr>\n  </thead>\n  <tbody>\n    <tr>\n      <th>0</th>\n      <td>36</td>\n      <td>27.4</td>\n      <td>7.4</td>\n      <td>34.7</td>\n      <td>25.0</td>\n      <td>69.9</td>\n      <td>4.1</td>\n      <td>1.9</td>\n      <td>0.4</td>\n      <td>0.4</td>\n      <td>1.3</td>\n      <td>0</td>\n    </tr>\n    <tr>\n      <th>1</th>\n      <td>35</td>\n      <td>26.9</td>\n      <td>7.2</td>\n      <td>29.6</td>\n      <td>23.5</td>\n      <td>76.5</td>\n      <td>2.4</td>\n      <td>3.7</td>\n      <td>1.1</td>\n      <td>0.5</td>\n      <td>1.6</td>\n      <td>0</td>\n    </tr>\n    <tr>\n      <th>2</th>\n      <td>74</td>\n      <td>15.3</td>\n      <td>5.2</td>\n      <td>42.2</td>\n      <td>24.4</td>\n      <td>67.0</td>\n      <td>2.2</td>\n      <td>1.0</td>\n      <td>0.5</td>\n      <td>0.3</td>\n      <td>1.0</td>\n      <td>0</td>\n    </tr>\n    <tr>\n      <th>3</th>\n      <td>58</td>\n      <td>11.6</td>\n      <td>5.7</td>\n      <td>42.6</td>\n      <td>22.6</td>\n      <td>68.9</td>\n      <td>1.9</td>\n      <td>0.8</td>\n      <td>0.6</td>\n      <td>0.1</td>\n      <td>1.0</td>\n      <td>1</td>\n    </tr>\n    <tr>\n      <th>4</th>\n      <td>48</td>\n      <td>11.5</td>\n      <td>4.5</td>\n      <td>52.4</td>\n      <td>0.0</td>\n      <td>67.4</td>\n      <td>2.5</td>\n      <td>0.3</td>\n      <td>0.3</td>\n      <td>0.4</td>\n      <td>0.8</td>\n      <td>1</td>\n    </tr>\n  </tbody>\n</table>\n</div>"
          },
          "metadata": {}
        }
      ],
      "execution_count": 10
    },
    {
      "cell_type": "markdown",
      "source": "## Feature Extraction ",
      "metadata": {}
    },
    {
      "cell_type": "code",
      "source": "extracted_data = selected_data.copy()\n\nextracted_data[\"total_points\"]=extracted_data[\"gp\"]*extracted_data[\"pts\"]\nextracted_data[\"efficiency\"]=extracted_data[\"total_points\"]/(extracted_data[\"min\"]*extracted_data[\"gp\"])\n\nextracted_data.head()",
      "metadata": {
        "trusted": true
      },
      "outputs": [
        {
          "execution_count": 11,
          "output_type": "execute_result",
          "data": {
            "text/plain": "   gp   min  pts    fg    3p    ft  reb  ast  stl  blk  tov  target_5yrs  \\\n0  36  27.4  7.4  34.7  25.0  69.9  4.1  1.9  0.4  0.4  1.3            0   \n1  35  26.9  7.2  29.6  23.5  76.5  2.4  3.7  1.1  0.5  1.6            0   \n2  74  15.3  5.2  42.2  24.4  67.0  2.2  1.0  0.5  0.3  1.0            0   \n3  58  11.6  5.7  42.6  22.6  68.9  1.9  0.8  0.6  0.1  1.0            1   \n4  48  11.5  4.5  52.4   0.0  67.4  2.5  0.3  0.3  0.4  0.8            1   \n\n   total_points  efficiency  \n0         266.4    0.270073  \n1         252.0    0.267658  \n2         384.8    0.339869  \n3         330.6    0.491379  \n4         216.0    0.391304  ",
            "text/html": "<div>\n<style scoped>\n    .dataframe tbody tr th:only-of-type {\n        vertical-align: middle;\n    }\n\n    .dataframe tbody tr th {\n        vertical-align: top;\n    }\n\n    .dataframe thead th {\n        text-align: right;\n    }\n</style>\n<table border=\"1\" class=\"dataframe\">\n  <thead>\n    <tr style=\"text-align: right;\">\n      <th></th>\n      <th>gp</th>\n      <th>min</th>\n      <th>pts</th>\n      <th>fg</th>\n      <th>3p</th>\n      <th>ft</th>\n      <th>reb</th>\n      <th>ast</th>\n      <th>stl</th>\n      <th>blk</th>\n      <th>tov</th>\n      <th>target_5yrs</th>\n      <th>total_points</th>\n      <th>efficiency</th>\n    </tr>\n  </thead>\n  <tbody>\n    <tr>\n      <th>0</th>\n      <td>36</td>\n      <td>27.4</td>\n      <td>7.4</td>\n      <td>34.7</td>\n      <td>25.0</td>\n      <td>69.9</td>\n      <td>4.1</td>\n      <td>1.9</td>\n      <td>0.4</td>\n      <td>0.4</td>\n      <td>1.3</td>\n      <td>0</td>\n      <td>266.4</td>\n      <td>0.270073</td>\n    </tr>\n    <tr>\n      <th>1</th>\n      <td>35</td>\n      <td>26.9</td>\n      <td>7.2</td>\n      <td>29.6</td>\n      <td>23.5</td>\n      <td>76.5</td>\n      <td>2.4</td>\n      <td>3.7</td>\n      <td>1.1</td>\n      <td>0.5</td>\n      <td>1.6</td>\n      <td>0</td>\n      <td>252.0</td>\n      <td>0.267658</td>\n    </tr>\n    <tr>\n      <th>2</th>\n      <td>74</td>\n      <td>15.3</td>\n      <td>5.2</td>\n      <td>42.2</td>\n      <td>24.4</td>\n      <td>67.0</td>\n      <td>2.2</td>\n      <td>1.0</td>\n      <td>0.5</td>\n      <td>0.3</td>\n      <td>1.0</td>\n      <td>0</td>\n      <td>384.8</td>\n      <td>0.339869</td>\n    </tr>\n    <tr>\n      <th>3</th>\n      <td>58</td>\n      <td>11.6</td>\n      <td>5.7</td>\n      <td>42.6</td>\n      <td>22.6</td>\n      <td>68.9</td>\n      <td>1.9</td>\n      <td>0.8</td>\n      <td>0.6</td>\n      <td>0.1</td>\n      <td>1.0</td>\n      <td>1</td>\n      <td>330.6</td>\n      <td>0.491379</td>\n    </tr>\n    <tr>\n      <th>4</th>\n      <td>48</td>\n      <td>11.5</td>\n      <td>4.5</td>\n      <td>52.4</td>\n      <td>0.0</td>\n      <td>67.4</td>\n      <td>2.5</td>\n      <td>0.3</td>\n      <td>0.3</td>\n      <td>0.4</td>\n      <td>0.8</td>\n      <td>1</td>\n      <td>216.0</td>\n      <td>0.391304</td>\n    </tr>\n  </tbody>\n</table>\n</div>"
          },
          "metadata": {}
        }
      ],
      "execution_count": 11
    },
    {
      "cell_type": "code",
      "source": "extracted_data = extracted_data.drop(columns=[\"gp\",\"pts\",\"min\"])\nextracted_data.head()",
      "metadata": {
        "trusted": true
      },
      "outputs": [
        {
          "execution_count": 12,
          "output_type": "execute_result",
          "data": {
            "text/plain": "     fg    3p    ft  reb  ast  stl  blk  tov  target_5yrs  total_points  \\\n0  34.7  25.0  69.9  4.1  1.9  0.4  0.4  1.3            0         266.4   \n1  29.6  23.5  76.5  2.4  3.7  1.1  0.5  1.6            0         252.0   \n2  42.2  24.4  67.0  2.2  1.0  0.5  0.3  1.0            0         384.8   \n3  42.6  22.6  68.9  1.9  0.8  0.6  0.1  1.0            1         330.6   \n4  52.4   0.0  67.4  2.5  0.3  0.3  0.4  0.8            1         216.0   \n\n   efficiency  \n0    0.270073  \n1    0.267658  \n2    0.339869  \n3    0.491379  \n4    0.391304  ",
            "text/html": "<div>\n<style scoped>\n    .dataframe tbody tr th:only-of-type {\n        vertical-align: middle;\n    }\n\n    .dataframe tbody tr th {\n        vertical-align: top;\n    }\n\n    .dataframe thead th {\n        text-align: right;\n    }\n</style>\n<table border=\"1\" class=\"dataframe\">\n  <thead>\n    <tr style=\"text-align: right;\">\n      <th></th>\n      <th>fg</th>\n      <th>3p</th>\n      <th>ft</th>\n      <th>reb</th>\n      <th>ast</th>\n      <th>stl</th>\n      <th>blk</th>\n      <th>tov</th>\n      <th>target_5yrs</th>\n      <th>total_points</th>\n      <th>efficiency</th>\n    </tr>\n  </thead>\n  <tbody>\n    <tr>\n      <th>0</th>\n      <td>34.7</td>\n      <td>25.0</td>\n      <td>69.9</td>\n      <td>4.1</td>\n      <td>1.9</td>\n      <td>0.4</td>\n      <td>0.4</td>\n      <td>1.3</td>\n      <td>0</td>\n      <td>266.4</td>\n      <td>0.270073</td>\n    </tr>\n    <tr>\n      <th>1</th>\n      <td>29.6</td>\n      <td>23.5</td>\n      <td>76.5</td>\n      <td>2.4</td>\n      <td>3.7</td>\n      <td>1.1</td>\n      <td>0.5</td>\n      <td>1.6</td>\n      <td>0</td>\n      <td>252.0</td>\n      <td>0.267658</td>\n    </tr>\n    <tr>\n      <th>2</th>\n      <td>42.2</td>\n      <td>24.4</td>\n      <td>67.0</td>\n      <td>2.2</td>\n      <td>1.0</td>\n      <td>0.5</td>\n      <td>0.3</td>\n      <td>1.0</td>\n      <td>0</td>\n      <td>384.8</td>\n      <td>0.339869</td>\n    </tr>\n    <tr>\n      <th>3</th>\n      <td>42.6</td>\n      <td>22.6</td>\n      <td>68.9</td>\n      <td>1.9</td>\n      <td>0.8</td>\n      <td>0.6</td>\n      <td>0.1</td>\n      <td>1.0</td>\n      <td>1</td>\n      <td>330.6</td>\n      <td>0.491379</td>\n    </tr>\n    <tr>\n      <th>4</th>\n      <td>52.4</td>\n      <td>0.0</td>\n      <td>67.4</td>\n      <td>2.5</td>\n      <td>0.3</td>\n      <td>0.3</td>\n      <td>0.4</td>\n      <td>0.8</td>\n      <td>1</td>\n      <td>216.0</td>\n      <td>0.391304</td>\n    </tr>\n  </tbody>\n</table>\n</div>"
          },
          "metadata": {}
        }
      ],
      "execution_count": 12
    },
    {
      "cell_type": "code",
      "source": "extracted_data.to_csv(\"extracted_nba_players_data.csv\",index=0)",
      "metadata": {
        "trusted": true
      },
      "outputs": [],
      "execution_count": 13
    },
    {
      "cell_type": "code",
      "source": "",
      "metadata": {
        "trusted": true
      },
      "outputs": [],
      "execution_count": null
    }
  ]
}